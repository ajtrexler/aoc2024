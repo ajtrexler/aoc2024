{
 "cells": [
  {
   "cell_type": "code",
   "execution_count": 50,
   "metadata": {},
   "outputs": [],
   "source": [
    "import numpy as np\n",
    "import networkx as nx\n",
    "from shapely import Polygon, MultiPoint"
   ]
  },
  {
   "cell_type": "code",
   "execution_count": 292,
   "metadata": {},
   "outputs": [],
   "source": [
    "with open(\"../data/12.txt\") as f:\n",
    "    data = [line.rstrip() for line in f.readlines()]\n",
    "\n",
    "nr = len(data)\n",
    "nc = len(data[0])\n",
    "data = np.array([dd for d in data for dd in d]).reshape((nr,nc))\n",
    "assert nr == nc"
   ]
  },
  {
   "cell_type": "code",
   "execution_count": null,
   "metadata": {},
   "outputs": [],
   "source": [
    "def get_idx(r,c,nc=nc):\n",
    "    return (r*nc)+c\n",
    "\n",
    "def invert_idx(idx,nc,nr):\n",
    "    return (idx//nr,idx%nc)\n",
    "\n",
    "directions = [\n",
    "    (-1,0), \n",
    "    (1,0),\n",
    "    (0,1),\n",
    "    (0,-1)\n",
    "]\n",
    "\n",
    "def take_step(i,step,data=data):\n",
    "    nr,nc = data.shape\n",
    "    move = (i[0]+step[0],i[1]+step[1])\n",
    "    if move[0]>=0 and move[1]>=0 and move[0]<nc and move[1]<nr:\n",
    "        return move\n",
    "\n",
    "def convert_to_bbox(idx):\n",
    "# idx = 0\n",
    "    r,c = invert_idx(idx,nr,nc)\n",
    "    box = [(r,c),(r+1,c),(r,c+1),(r+1,c+1)]\n",
    "    bbox = [r,c+1,r+1,c]\n",
    "    return bbox"
   ]
  },
  {
   "cell_type": "code",
   "execution_count": 294,
   "metadata": {},
   "outputs": [],
   "source": [
    "\n",
    "\n",
    "g = nx.Graph()\n",
    "\n",
    "# add all the nodes\n",
    "i=0\n",
    "for r in range(nr):\n",
    "    for c in range(nc):\n",
    "        assert i == get_idx(r,c,nc)\n",
    "        g.add_node(i,plant=data[(r,c)])\n",
    "        i+=1\n",
    "\n",
    "# add edges\n",
    "for r in range(nr):\n",
    "    for c in range(nc):\n",
    "        steps = [take_step((r,c),d,data) for d in directions ]\n",
    "        for step in steps:\n",
    "            if step:\n",
    "                if data[step] == data[(r,c)]:\n",
    "                    g.add_edge(get_idx(r,c),get_idx(*step))\n"
   ]
  },
  {
   "cell_type": "code",
   "execution_count": 295,
   "metadata": {},
   "outputs": [
    {
     "data": {
      "text/plain": [
       "1464678"
      ]
     },
     "execution_count": 295,
     "metadata": {},
     "output_type": "execute_result"
    }
   ],
   "source": [
    "prices = []\n",
    "for region in list(nx.connected_components(g)):\n",
    "    perimeter = sum([4 - g.degree[n] for n in region])\n",
    "    area = len(region)\n",
    "    prices.append(perimeter * area)\n",
    "sum(prices)"
   ]
  },
  {
   "cell_type": "code",
   "execution_count": 296,
   "metadata": {},
   "outputs": [],
   "source": [
    "# part two"
   ]
  },
  {
   "cell_type": "code",
   "execution_count": null,
   "metadata": {},
   "outputs": [],
   "source": [
    "discounted_prices = 0\n",
    "for region in nx.connected_components(g):\n",
    "    boxes = [shapely.geometry.box(*convert_to_bbox(r)) for r in region]\n",
    "    poly = boxes[0]\n",
    "    for b in boxes[1:]:\n",
    "        poly = poly.union(b)\n",
    "    sides = 0\n",
    "    for pr in shapely.get_rings(poly):\n",
    "        coords = [c for c in shapely.simplify(pr,0).coords]\n",
    "        sides += len(set(coords))\n",
    "    discounted_prices += (len(region) * sides)\n",
    "print(discounted_prices)  \n"
   ]
  }
 ],
 "metadata": {
  "kernelspec": {
   "display_name": "aoc",
   "language": "python",
   "name": "python3"
  },
  "language_info": {
   "codemirror_mode": {
    "name": "ipython",
    "version": 3
   },
   "file_extension": ".py",
   "mimetype": "text/x-python",
   "name": "python",
   "nbconvert_exporter": "python",
   "pygments_lexer": "ipython3",
   "version": "3.12.2"
  }
 },
 "nbformat": 4,
 "nbformat_minor": 2
}
