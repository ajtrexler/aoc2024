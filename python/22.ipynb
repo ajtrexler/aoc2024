{
 "cells": [
  {
   "cell_type": "code",
   "execution_count": null,
   "metadata": {},
   "outputs": [],
   "source": [
    "import math\n",
    "import numpy as np\n",
    "from tqdm import tqdm"
   ]
  },
  {
   "cell_type": "code",
   "execution_count": 103,
   "metadata": {},
   "outputs": [],
   "source": [
    "with open(\"../data/22.txt\") as f:\n",
    "    data = [int(line.rstrip()) for line in f.readlines()]\n",
    "\n",
    "test_cases = {\n",
    "    1:8685429,\n",
    "    10:4700978,\n",
    "    100:15273692,\n",
    "    2024:8667524\n",
    "}"
   ]
  },
  {
   "cell_type": "code",
   "execution_count": 104,
   "metadata": {},
   "outputs": [],
   "source": [
    "d = 123"
   ]
  },
  {
   "cell_type": "code",
   "execution_count": 105,
   "metadata": {},
   "outputs": [],
   "source": [
    "def prune(d,divisor=16777216):\n",
    "    return d % divisor\n",
    "\n",
    "def mix(a,b):\n",
    "    return a ^ b\n",
    "\n",
    "def get_next_number(d):\n",
    "    d = prune(mix(d,d*64))\n",
    "    d = prune(mix(d,math.floor(d/32)))\n",
    "    d = prune(mix(d,d*2048))\n",
    "    return d\n",
    "\n",
    "assert mix(42,15)==37\n",
    "assert prune(100000000)==16113920\n",
    "\n",
    "tcs = [15887950,\n",
    "16495136,\n",
    "527345,\n",
    "704524,\n",
    "1553684,\n",
    "12683156,\n",
    "11100544,\n",
    "12249484,\n",
    "7753432,\n",
    "5908254,\n",
    "]\n",
    "\n",
    "for i,tc in enumerate(tcs):\n",
    "    if i ==0:\n",
    "        assert get_next_number(123)==tc\n",
    "    else:\n",
    "        assert get_next_number(tcs[i-1])==tc\n",
    "        "
   ]
  },
  {
   "cell_type": "code",
   "execution_count": null,
   "metadata": {},
   "outputs": [
    {
     "name": "stdout",
     "output_type": "stream",
     "text": [
      "13764677935\n"
     ]
    }
   ],
   "source": [
    "output = 0\n",
    "for num in data:\n",
    "    i_num = num\n",
    "    for _ in range(2000):\n",
    "        num = get_next_number(num)\n",
    "    output += num\n",
    "    if len(data)<10:\n",
    "        assert test_cases[i_num]==num\n",
    "print(output)\n",
    "    "
   ]
  },
  {
   "cell_type": "code",
   "execution_count": null,
   "metadata": {},
   "outputs": [],
   "source": [
    "# part two"
   ]
  },
  {
   "cell_type": "code",
   "execution_count": null,
   "metadata": {},
   "outputs": [],
   "source": [
    "# nums = [1,2,3,2024]\n",
    "nums = data\n",
    "price_list_per_num = []\n",
    "for num in nums:\n",
    "    prices=[int(str(num)[-1])]\n",
    "    for _ in range(1999):\n",
    "        num = get_next_number(num)\n",
    "        prices.append(int(str(num)[-1]))\n",
    "    prices = np.array(prices)\n",
    "    price_list_per_num.append(prices)"
   ]
  },
  {
   "cell_type": "code",
   "execution_count": 167,
   "metadata": {},
   "outputs": [
    {
     "name": "stderr",
     "output_type": "stream",
     "text": [
      "100%|██████████| 1683/1683 [01:44<00:00, 16.06it/s]\n"
     ]
    }
   ],
   "source": [
    "seq_lkup = {}\n",
    "for prices in tqdm(price_list_per_num):\n",
    "    # prices = price_list_per_num[0]\n",
    "    change_arr = (np.roll(prices,-1)-prices)[:-1]\n",
    "    seqs = np.lib.stride_tricks.sliding_window_view(change_arr,4)\n",
    "    unique_seqs = set([tuple([int(s) for s in seq]) for seq in seqs ])\n",
    "    for seq in unique_seqs:\n",
    "        idx = np.where(np.all(seqs==seq,axis=1))[0][0]\n",
    "        sale_price = int(prices[idx+4])\n",
    "        seq = tuple([int(s) for s in seq])\n",
    "        if seq not in seq_lkup:\n",
    "            seq_lkup[seq] = sale_price\n",
    "        else:\n",
    "            seq_lkup[seq] += sale_price"
   ]
  },
  {
   "cell_type": "code",
   "execution_count": 168,
   "metadata": {},
   "outputs": [],
   "source": [
    "bananas = 0\n",
    "best_seq = None\n",
    "for k,v in seq_lkup.items():\n",
    "    if v> bananas:\n",
    "        bananas=v\n",
    "        best_seq = k"
   ]
  },
  {
   "cell_type": "code",
   "execution_count": 169,
   "metadata": {},
   "outputs": [
    {
     "data": {
      "text/plain": [
       "1619"
      ]
     },
     "execution_count": 169,
     "metadata": {},
     "output_type": "execute_result"
    }
   ],
   "source": [
    "bananas"
   ]
  }
 ],
 "metadata": {
  "kernelspec": {
   "display_name": "aoc",
   "language": "python",
   "name": "python3"
  },
  "language_info": {
   "codemirror_mode": {
    "name": "ipython",
    "version": 3
   },
   "file_extension": ".py",
   "mimetype": "text/x-python",
   "name": "python",
   "nbconvert_exporter": "python",
   "pygments_lexer": "ipython3",
   "version": "3.12.2"
  }
 },
 "nbformat": 4,
 "nbformat_minor": 2
}
