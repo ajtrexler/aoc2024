{
 "cells": [
  {
   "cell_type": "code",
   "execution_count": 109,
   "metadata": {},
   "outputs": [],
   "source": [
    "import numpy as np\n",
    "from collections import defaultdict\n",
    "import math\n",
    "from itertools import combinations\n",
    "import copy"
   ]
  },
  {
   "cell_type": "code",
   "execution_count": 204,
   "metadata": {},
   "outputs": [],
   "source": [
    "with open(\"../data/8.txt\") as f:\n",
    "    data = [line.rstrip() for line in f.readlines()]\n",
    "nr = len(data)\n",
    "nc = len(data[0])\n",
    "\n",
    "antennas = defaultdict(list)\n",
    "for r in range(nr):\n",
    "    for c in range(nc):\n",
    "        if data[r][c]!='.':\n",
    "            antennas[data[r][c]].append((r,c))"
   ]
  },
  {
   "cell_type": "code",
   "execution_count": 187,
   "metadata": {},
   "outputs": [],
   "source": [
    "# part one"
   ]
  },
  {
   "cell_type": "code",
   "execution_count": 205,
   "metadata": {},
   "outputs": [],
   "source": [
    "def is_valid(x,y,nx=nc,ny=nr):\n",
    "    if x>=0 and y>=0 and x<nx and y<ny:\n",
    "        return (x,y)\n",
    "\n",
    "def get_antinodes(x1, y1, x2, y2, step=1, nx=nr,ny=nc):\n",
    "\n",
    "    # Calculate the length of the line segment\n",
    "    line_length = math.sqrt((x2 - x1)**2 + (y2 - y1)**2)\n",
    "\n",
    "    # Calculate the unit vector in the direction of the line\n",
    "    unit_x = (x2 - x1) / line_length\n",
    "    unit_y = (y2 - y1) / line_length\n",
    "\n",
    "    a_x = round(x1 + (-1*step*line_length) * unit_x)\n",
    "    a_y = round(y1 + (-1*step*line_length) * unit_y)\n",
    "\n",
    "\n",
    "    b_x = round(x2 + (step*line_length) * unit_x)\n",
    "    b_y = round(y2 + (step*line_length) * unit_y)\n",
    "\n",
    "    return (a_x,a_y),(b_x,b_y)"
   ]
  },
  {
   "cell_type": "code",
   "execution_count": null,
   "metadata": {},
   "outputs": [],
   "source": [
    "antinodes = []\n",
    "for ident,ants in antennas.items():\n",
    "    for pair in combinations(ants,2):\n",
    "        [antinodes.append(aa) for aa in get_antinodes(*pair[0],*pair[1])]\n",
    "\n",
    "len(antinodes)"
   ]
  },
  {
   "cell_type": "code",
   "execution_count": null,
   "metadata": {},
   "outputs": [],
   "source": [
    "len(set([node for node in antinodes if is_valid(node[0],node[1])]))"
   ]
  },
  {
   "cell_type": "code",
   "execution_count": 208,
   "metadata": {},
   "outputs": [],
   "source": [
    "# part two"
   ]
  },
  {
   "cell_type": "code",
   "execution_count": null,
   "metadata": {},
   "outputs": [],
   "source": [
    "antinodes = []\n",
    "for ident,ants in antennas.items():\n",
    "    for pair in combinations(ants,2):\n",
    "        step = 0\n",
    "        while True:\n",
    "            nodes = get_antinodes(*pair[0],*pair[1],step=step)\n",
    "            if any([is_valid(node[0],node[1]) for node in nodes]):\n",
    "                [antinodes.append(n) for n in nodes];\n",
    "                step += 1\n",
    "            else:\n",
    "                break\n",
    "len(set([node for node in antinodes if node and is_valid(node[0],node[1])]))"
   ]
  }
 ],
 "metadata": {
  "kernelspec": {
   "display_name": "aoc",
   "language": "python",
   "name": "python3"
  },
  "language_info": {
   "codemirror_mode": {
    "name": "ipython",
    "version": 3
   },
   "file_extension": ".py",
   "mimetype": "text/x-python",
   "name": "python",
   "nbconvert_exporter": "python",
   "pygments_lexer": "ipython3",
   "version": "3.12.7"
  }
 },
 "nbformat": 4,
 "nbformat_minor": 2
}
