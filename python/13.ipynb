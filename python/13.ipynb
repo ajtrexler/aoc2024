{
 "cells": [
  {
   "cell_type": "code",
   "execution_count": 26,
   "metadata": {},
   "outputs": [],
   "source": [
    "import re\n",
    "import numpy as np"
   ]
  },
  {
   "cell_type": "code",
   "execution_count": 109,
   "metadata": {},
   "outputs": [],
   "source": [
    "with open(\"../data/13.txt\") as f:\n",
    "    data = f.read()\n"
   ]
  },
  {
   "cell_type": "code",
   "execution_count": 110,
   "metadata": {},
   "outputs": [],
   "source": [
    "pattern = r\"{}[+=](\\d+)\"\n",
    "def parse_input(ltr,pattern=pattern,data=data):\n",
    "    tmp = re.findall(pattern.format(ltr), data)\n",
    "    return [np.array([int(num) for num in tmp[i:i+3]]) for i in range(0,len(tmp),3)]\n",
    "\n",
    "xs = parse_input(\"X\")\n",
    "ys = parse_input(\"Y\")\n",
    "inpts = [(x,y) for x,y in zip(xs,ys)]"
   ]
  },
  {
   "cell_type": "code",
   "execution_count": 111,
   "metadata": {},
   "outputs": [],
   "source": [
    "def compute_token_cost(x,y,x_press=3,y_press=1):\n",
    "    return x*x_press + (y*y_press)"
   ]
  },
  {
   "cell_type": "code",
   "execution_count": null,
   "metadata": {},
   "outputs": [],
   "source": [
    "tokens = 0\n",
    "max_presses = 100\n",
    "for inpt in inpts:\n",
    "    (x,y) = inpt\n",
    "    a = np.stack((x[:2],y[:2]))\n",
    "    b = np.stack((x[2],y[2]))\n",
    "    res = np.linalg.solve(a,b)\n",
    "    if all([round(r,5).is_integer() for r in res]) and (res<max_presses).all():\n",
    "        tokens += compute_token_cost(*res)\n",
    "print(int(tokens))\n"
   ]
  },
  {
   "cell_type": "code",
   "execution_count": 113,
   "metadata": {},
   "outputs": [],
   "source": [
    "unit_inflation = 10000000000000"
   ]
  },
  {
   "cell_type": "code",
   "execution_count": null,
   "metadata": {},
   "outputs": [],
   "source": [
    "tokens = 0\n",
    "for inpt in inpts:\n",
    "    (x,y) = inpt\n",
    "    a = np.stack((x[:2],y[:2]))\n",
    "    b = np.stack((x[2],y[2]))+unit_inflation\n",
    "    res = np.linalg.solve(a,b)\n",
    "    if all([round(r,3).is_integer() for r in res]):\n",
    "        tokens += compute_token_cost(*res)\n",
    "print(int(tokens))"
   ]
  }
 ],
 "metadata": {
  "kernelspec": {
   "display_name": "aoc",
   "language": "python",
   "name": "python3"
  },
  "language_info": {
   "codemirror_mode": {
    "name": "ipython",
    "version": 3
   },
   "file_extension": ".py",
   "mimetype": "text/x-python",
   "name": "python",
   "nbconvert_exporter": "python",
   "pygments_lexer": "ipython3",
   "version": "3.12.2"
  }
 },
 "nbformat": 4,
 "nbformat_minor": 2
}
