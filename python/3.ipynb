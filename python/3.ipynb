{
 "cells": [
  {
   "cell_type": "code",
   "execution_count": 66,
   "metadata": {},
   "outputs": [],
   "source": [
    "import re\n",
    "import math\n",
    "import numpy as np"
   ]
  },
  {
   "cell_type": "code",
   "execution_count": 137,
   "metadata": {},
   "outputs": [],
   "source": [
    "with open(\"../data/3.txt\", \"r\") as f:\n",
    "    data = f.read()"
   ]
  },
  {
   "cell_type": "code",
   "execution_count": 43,
   "metadata": {},
   "outputs": [],
   "source": [
    "# part one"
   ]
  },
  {
   "cell_type": "code",
   "execution_count": 112,
   "metadata": {},
   "outputs": [],
   "source": [
    "pattern = r\"mul(\\(\\d{1,3},\\d{1,3}\\))\"\n",
    "instructions = re.finditer(pattern,data)"
   ]
  },
  {
   "cell_type": "code",
   "execution_count": null,
   "metadata": {},
   "outputs": [],
   "source": [
    "def run_instructions(instructions):\n",
    "    return sum([math.prod([int(d) for d in instruct.replace(\"(\",\"\").replace(\")\",\"\").split(\",\")]) for instruct in instructions])\n",
    "\n",
    "run_instructions([instruct.group(1) for instruct in instructions])"
   ]
  },
  {
   "cell_type": "code",
   "execution_count": null,
   "metadata": {},
   "outputs": [],
   "source": [
    "# part two"
   ]
  },
  {
   "cell_type": "code",
   "execution_count": 138,
   "metadata": {},
   "outputs": [],
   "source": [
    "pattern = r\"mul(\\(\\d{1,3},\\d{1,3}\\))\"\n",
    "raw_instructions = re.finditer(pattern,data)\n",
    "\n",
    "do_pattern = r\"(do\\(\\))\"\n",
    "dos = re.finditer(do_pattern,data)\n",
    "dos = np.array([0] + [do.span()[1] for do in dos])\n",
    "\n",
    "dont_pattern = r\"(don't\\(\\))\"\n",
    "donts = re.finditer(dont_pattern,data)\n",
    "donts = np.array([dont.span()[1] for dont in donts])\n",
    "\n",
    "\n"
   ]
  },
  {
   "cell_type": "code",
   "execution_count": 139,
   "metadata": {},
   "outputs": [],
   "source": [
    "state = []\n",
    "for i in range(len(data)):\n",
    "    if i in donts:\n",
    "        state.append(False)\n",
    "    elif i in dos:\n",
    "        state.append(True)\n",
    "    else:\n",
    "        state.append(state[-1])\n"
   ]
  },
  {
   "cell_type": "code",
   "execution_count": null,
   "metadata": {},
   "outputs": [],
   "source": [
    "run_instructions([instruct.group(1) for instruct in raw_instructions if state[instruct.span()[0]]])\n"
   ]
  }
 ],
 "metadata": {
  "kernelspec": {
   "display_name": "aoc",
   "language": "python",
   "name": "python3"
  },
  "language_info": {
   "codemirror_mode": {
    "name": "ipython",
    "version": 3
   },
   "file_extension": ".py",
   "mimetype": "text/x-python",
   "name": "python",
   "nbconvert_exporter": "python",
   "pygments_lexer": "ipython3",
   "version": "3.12.7"
  }
 },
 "nbformat": 4,
 "nbformat_minor": 2
}
