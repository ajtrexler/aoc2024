{
 "cells": [
  {
   "cell_type": "code",
   "execution_count": 2,
   "metadata": {},
   "outputs": [],
   "source": [
    "import numpy as np\n",
    "from collections import deque\n",
    "from numpy.lib.stride_tricks import as_strided"
   ]
  },
  {
   "cell_type": "code",
   "execution_count": 25,
   "metadata": {},
   "outputs": [],
   "source": [
    "with open(\"../data/14.txt\") as f:\n",
    "    data = [line.rstrip() for line in f.readlines()]\n",
    "\n",
    "if len(data)<50:\n",
    "    nc=11\n",
    "    nr=7\n",
    "else:\n",
    "    nc=101\n",
    "    nr=103\n",
    "\n"
   ]
  },
  {
   "cell_type": "code",
   "execution_count": 32,
   "metadata": {},
   "outputs": [],
   "source": [
    "robots = []\n",
    "for line in data:\n",
    "    p,v = line.split()\n",
    "    p = np.array([int(pp) for pp in p.replace(\"p=\",\"\").split(\",\")][::-1])\n",
    "    v = np.array([int(vv) for vv in v.replace(\"v=\",\"\").split(\",\")][::-1])\n",
    "    robots.append((p,v))\n",
    "robots = deque(robots)"
   ]
  },
  {
   "cell_type": "code",
   "execution_count": 33,
   "metadata": {},
   "outputs": [
    {
     "data": {
      "text/plain": [
       "500"
      ]
     },
     "execution_count": 33,
     "metadata": {},
     "output_type": "execute_result"
    }
   ],
   "source": [
    "grid = np.zeros((nr,nc))\n",
    "\n",
    "# initialize robot positions\n",
    "for robot in robots:\n",
    "    pos,v = robot\n",
    "    grid[*pos] += 1\n",
    "\n",
    "num_robots = len(robots)\n",
    "num_robots"
   ]
  },
  {
   "cell_type": "code",
   "execution_count": 34,
   "metadata": {},
   "outputs": [
    {
     "data": {
      "text/plain": [
       "np.float64(22.360679774997898)"
      ]
     },
     "execution_count": 34,
     "metadata": {},
     "output_type": "execute_result"
    }
   ],
   "source": [
    "np.sqrt(500)"
   ]
  },
  {
   "cell_type": "code",
   "execution_count": 35,
   "metadata": {},
   "outputs": [],
   "source": [
    "def detect_trees(grid, sub_shape=(8,8), threshold = 20):\n",
    "    view_shape = tuple(np.subtract(grid.shape, sub_shape) + 1) + sub_shape\n",
    "    arr_view = as_strided(grid, view_shape, grid.strides * 2)\n",
    "    arr_view = arr_view.reshape((-1,) + sub_shape)\n",
    "\n",
    "    poss_windows = 0\n",
    "    for w in arr_view:\n",
    "        if w.sum()>=threshold:\n",
    "            poss_windows +=1\n",
    "    return poss_windows\n",
    "\n",
    "def output_image(grid,fn,nr=nr,nc=nc):\n",
    "    lines = \"\"\n",
    "    for r in range(nr):\n",
    "        for c in range(nc):\n",
    "            lines += \"X\" if grid[r,c]>0 else \" \"\n",
    "        lines += \"\\n\"\n",
    "    with open(fn,\"w\") as f:\n",
    "        f.writelines(lines)\n"
   ]
  },
  {
   "cell_type": "code",
   "execution_count": 36,
   "metadata": {},
   "outputs": [],
   "source": [
    "def detect_center_mass(grid):\n",
    "    return grid[21:69,20:-20].sum()>250"
   ]
  },
  {
   "cell_type": "code",
   "execution_count": null,
   "metadata": {},
   "outputs": [],
   "source": [
    "num_steps = 100\n",
    "for step in range(num_steps):\n",
    "    c = 0\n",
    "    while c < num_robots:\n",
    "        robot = robots.popleft()\n",
    "        pos,v = robot\n",
    "        new_pos = pos + v\n",
    "        new_pos = np.mod(new_pos,(nr,nc))\n",
    "        grid[*pos] -= 1 \n",
    "        grid[*new_pos] += 1\n",
    "        robot = (new_pos,v)\n",
    "        robots.append(robot)\n",
    "        c +=1\n",
    "    \n",
    "    if detect_center_mass(grid) and step>7000:\n",
    "        output_image(grid,f\"output_{step}.txt\")\n",
    "    # chk = detect_trees(grid)\n",
    "    # if chk>10:\n",
    "    #     print(chk)\n",
    "        \n",
    "\n"
   ]
  },
  {
   "cell_type": "code",
   "execution_count": 301,
   "metadata": {},
   "outputs": [],
   "source": [
    "middle_r = nr//2\n",
    "middle_c = nc // 2\n",
    "\n"
   ]
  },
  {
   "cell_type": "code",
   "execution_count": 302,
   "metadata": {},
   "outputs": [
    {
     "name": "stdout",
     "output_type": "stream",
     "text": [
      "229839456.0\n"
     ]
    }
   ],
   "source": [
    "q1 = grid[:middle_r,:middle_c].sum() # upper left\n",
    "q2 = grid[middle_r+1:,:middle_c].sum() # lower left\n",
    "q3 = grid[:middle_r,middle_c+1:].sum() # upper right\n",
    "q4 = grid[middle_r+1:,middle_c+1:].sum() # lower right\n",
    "print(np.prod([q1,q2,q3,q4]))"
   ]
  }
 ],
 "metadata": {
  "kernelspec": {
   "display_name": "aoc",
   "language": "python",
   "name": "python3"
  },
  "language_info": {
   "codemirror_mode": {
    "name": "ipython",
    "version": 3
   },
   "file_extension": ".py",
   "mimetype": "text/x-python",
   "name": "python",
   "nbconvert_exporter": "python",
   "pygments_lexer": "ipython3",
   "version": "3.12.2"
  }
 },
 "nbformat": 4,
 "nbformat_minor": 2
}
