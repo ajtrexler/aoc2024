{
 "cells": [
  {
   "cell_type": "code",
   "execution_count": 1,
   "metadata": {},
   "outputs": [],
   "source": [
    "import networkx as nx\n",
    "import numpy as np"
   ]
  },
  {
   "cell_type": "code",
   "execution_count": 10,
   "metadata": {},
   "outputs": [],
   "source": [
    "with open(\"../data/21.txt\") as f:\n",
    "    codes = [line.rstrip() for line in f.readlines()]"
   ]
  },
  {
   "cell_type": "code",
   "execution_count": 11,
   "metadata": {},
   "outputs": [],
   "source": [
    "def get_idx(r,c,nc):\n",
    "    return (r*nc)+c\n",
    "\n",
    "def invert_idx(idx,nc,nr):\n",
    "    return (idx//nr,idx%nc)\n",
    "\n",
    "def take_step(i,step,data,invalid_space=\"#\"):\n",
    "    nr,nc = data.shape\n",
    "    move = (i[0]+step[0],i[1]+step[1])\n",
    "    if move[0]>=0 and move[1]>=0 and move[0]<nr and move[1]<nc and data[move]!=invalid_space:\n",
    "        \n",
    "        return move\n",
    "    \n",
    "directions = [\n",
    "    (-1,0), \n",
    "    (1,0),\n",
    "    (0,1),\n",
    "    (0,-1)\n",
    "]\n",
    "\n",
    "cardinals = {\"^\": (-1, 0), \">\": (0, 1), \"<\": (0, -1), \"v\": (1, 0)}\n",
    "# cardinals = {k:np.array(v) for k,v in cardinals.items()}\n",
    "reverse_cardinals = {v:k for k,v in cardinals.items()}"
   ]
  },
  {
   "cell_type": "code",
   "execution_count": 12,
   "metadata": {},
   "outputs": [],
   "source": [
    "num_pad=\"789\\n456\\n123\\ng0A\".split(\"\\n\")\n",
    "arrow_pad=\"g^A\\n<v>\".split(\"\\n\")\n",
    "\n",
    "nnr = 4\n",
    "nnc = 3\n",
    "num_pad = np.array([i for row in num_pad for i in row.rstrip()]).reshape((nnr,nnc))\n",
    "num_pad\n",
    "\n",
    "anr = 2\n",
    "anc = 3\n",
    "arrow_pad = np.array([i for row in arrow_pad for i in row]).reshape((anr,anc))\n"
   ]
  },
  {
   "cell_type": "code",
   "execution_count": 13,
   "metadata": {},
   "outputs": [],
   "source": [
    "def build_small_graph(data):\n",
    "    nr,nc=data.shape\n",
    "    g = nx.Graph()\n",
    "    i = 0\n",
    "    idx_lkup = {}\n",
    "    for r in range(nr):\n",
    "        for c in range(nc):\n",
    "            g.add_node(data[r,c])\n",
    "            idx_lkup[data[r,c]] = np.array((r,c))\n",
    "            i+=1\n",
    "\n",
    "    # add edges\n",
    "    for r in range(nr):\n",
    "        for c in range(nc):\n",
    "            if data[r,c] != \"g\":\n",
    "                steps = [take_step((r,c),d,data,\"g\") for d in directions ]\n",
    "                for step in steps:\n",
    "                    if step:\n",
    "                        g.add_edge(data[r,c],data[*step])\n",
    "    return g,idx_lkup\n"
   ]
  },
  {
   "cell_type": "code",
   "execution_count": 14,
   "metadata": {},
   "outputs": [],
   "source": [
    "n_g, num_lkup = build_small_graph(num_pad)\n",
    "a_g, arrow_lkup = build_small_graph(arrow_pad)"
   ]
  },
  {
   "cell_type": "code",
   "execution_count": 15,
   "metadata": {},
   "outputs": [],
   "source": [
    "test_cases = {\n",
    "    \"029A\": \"<vA<AA>>^AvAA<^A>A<v<A>>^AvA^A<vA>^A<v<A>^A>AAvA^A<v<A>A>^AAAvA<^A>A\",\n",
    "    \"980A\": \"<v<A>>^AAAvA^A<vA<AA>>^AvAA<^A>A<v<A>A>^AAAvA<^A>A<vA>^A<A>A\",\n",
    "    \"179A\": \"<v<A>>^A<vA<A>>^AAvAA<^A>A<v<A>>^AAvA^A<vA>^AA<A>A<v<A>A>^AAAvA<^A>A\",\n",
    "    \"456A\": \"<v<A>>^AA<vA<A>>^AAvAA<^A>A<vA>^A<A>A<vA>^A<A>A<v<A>A>^AAvA<^A>A\",\n",
    "    \"379A\": \"<v<A>>^AvA^A<vA<AA>>^AAvA<^A>AAvA^A<vA>^AA<A>A<v<A>A>^AAAvA<^A>A\",\n",
    "}"
   ]
  },
  {
   "cell_type": "code",
   "execution_count": 16,
   "metadata": {},
   "outputs": [],
   "source": [
    "# get all paths and prefer the one with repeated directions\n",
    "# TODO: get all paths f rom tyhe num lookup, then sorted path for arrow lookups\n",
    "# if  that doesnt work, maybe try the hardcoded best paths for numpad solution\n",
    "\n",
    "# for problem 20\n",
    "# find all paths starting with # and go until .\n",
    "# if . == E, path is the path, otherwise, the path is the end + that block length to the end"
   ]
  },
  {
   "cell_type": "code",
   "execution_count": 17,
   "metadata": {},
   "outputs": [],
   "source": [
    "def get_all_combos(lst):\n",
    "    if not lst:\n",
    "        return [[]]\n",
    "    result = []\n",
    "    for i in lst[0]:\n",
    "        for j in get_all_combos(lst[1:]):\n",
    "            result.append([i]+j)\n",
    "    return result\n",
    "\n",
    "def get_all_paths_for_code(code,n_g):\n",
    "    num_pushes = []\n",
    "    seqs = list(nx.all_pairs_all_shortest_paths(n_g))\n",
    "    for i,c in enumerate(code):\n",
    "        if i==0:\n",
    "            src = \"A\"\n",
    "            tgt = c\n",
    "        else:\n",
    "            src = code[i-1]\n",
    "            tgt=c\n",
    "        routes = [seq[1][tgt] for seq in seqs if seq[0]==src]\n",
    "        num_pushes.append(routes[0])\n",
    "\n",
    "    num_pushes = get_all_combos(num_pushes)\n",
    "    paths = []\n",
    "    for num_push in num_pushes:\n",
    "        buttons = \"\"\n",
    "        for seq in num_push:\n",
    "            for i,p in enumerate(seq[:-1]):\n",
    "                buttons += reverse_cardinals[tuple(int(t) for t in (num_lkup[seq[i+1]]-num_lkup[p]))]\n",
    "            buttons += \"A\"\n",
    "        paths.append(buttons)\n",
    "    return paths\n",
    "\n",
    "# get_all_paths_for_code(codes[0],n_g)"
   ]
  },
  {
   "cell_type": "code",
   "execution_count": 19,
   "metadata": {},
   "outputs": [
    {
     "name": "stdout",
     "output_type": "stream",
     "text": [
      "171596\n"
     ]
    }
   ],
   "source": [
    "def get_button_pushes(code,start,n_g,lkup,use_sort=False):\n",
    "    # start = \"A\"\n",
    "    # code = codes[0]\n",
    "    buttons = \"\"\n",
    "    for c in code:\n",
    "        path = nx.shortest_path(n_g,start,c)\n",
    "        subs = \"\"\n",
    "        for i,p in enumerate(path[:-1]):\n",
    "            subs += reverse_cardinals[tuple(int(t) for t in (lkup[path[i+1]]-lkup[p]))]\n",
    "        if use_sort and subs!=\"\":\n",
    "            buttons += \"\".join(sorted(subs))\n",
    "        elif subs != \"\":\n",
    "            buttons += subs\n",
    "        buttons += \"A\"\n",
    "        start = path[-1]\n",
    "    return buttons\n",
    "\n",
    "output = 0\n",
    "for code in codes:\n",
    "# code = codes[3]\n",
    "    # r1 = get_button_pushes(code,\"A\",n_g,num_lkup,False)\n",
    "    r1s = get_all_paths_for_code(code,n_g)\n",
    "    r2s = []\n",
    "    r3s = []\n",
    "    for r1 in r1s:\n",
    "        r2s.append(get_button_pushes(r1,\"A\",a_g,arrow_lkup,True))\n",
    "        r3s.append(get_button_pushes(r2s[-1],\"A\",a_g,arrow_lkup,True))\n",
    "        \n",
    "    shortest = min([len(r3) for r3 in r3s])\n",
    "    output += shortest*int(code.replace(\"A\",\"\"))\n",
    "    # print(code, shortest,int(code.replace(\"A\",\"\")),len(test_cases[code])==shortest)\n",
    "print(output)"
   ]
  },
  {
   "cell_type": "code",
   "execution_count": null,
   "metadata": {},
   "outputs": [],
   "source": []
  }
 ],
 "metadata": {
  "kernelspec": {
   "display_name": "aoc",
   "language": "python",
   "name": "python3"
  },
  "language_info": {
   "codemirror_mode": {
    "name": "ipython",
    "version": 3
   },
   "file_extension": ".py",
   "mimetype": "text/x-python",
   "name": "python",
   "nbconvert_exporter": "python",
   "pygments_lexer": "ipython3",
   "version": "3.12.2"
  }
 },
 "nbformat": 4,
 "nbformat_minor": 2
}
