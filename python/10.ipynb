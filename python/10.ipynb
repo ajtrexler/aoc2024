{
 "cells": [
  {
   "cell_type": "code",
   "execution_count": 12,
   "metadata": {},
   "outputs": [],
   "source": [
    "import networkx as nx\n",
    "import numpy as np"
   ]
  },
  {
   "cell_type": "code",
   "execution_count": 148,
   "metadata": {},
   "outputs": [],
   "source": [
    "with open(\"../data/10.txt\") as f:\n",
    "    data = [line.rstrip() for line in f.readlines()]\n",
    "    \n",
    "nr = len(data)\n",
    "nc = len(data[0])\n",
    "\n",
    "assert nr==nc\n",
    "\n",
    "data = np.array([int(dd) for d in data for dd in d]).reshape((nr,nc))\n",
    "\n",
    "def take_step(i,step,data=data):\n",
    "    # i = (0,9)\n",
    "    # step = (1,-1)\n",
    "    nr,nc = data.shape\n",
    "    move = (i[0]+step[0],i[1]+step[1])\n",
    "    if move[0]>=0 and move[1]>=0 and move[0]<nc and move[1]<nr:\n",
    "        return move\n",
    "    \n",
    "def get_idx(r,c,nc=nc):\n",
    "    return (r*nc)+c\n",
    "\n",
    "directions = [\n",
    "    (-1,0), \n",
    "    (1,0),\n",
    "    (0,1),\n",
    "    (0,-1)\n",
    "]\n",
    "g = nx.DiGraph()"
   ]
  },
  {
   "cell_type": "code",
   "execution_count": 149,
   "metadata": {},
   "outputs": [],
   "source": [
    "i=0\n",
    "for r in range(nr):\n",
    "    for c in range(nc):\n",
    "        h = data[(r,c)]\n",
    "        assert i == get_idx(r,c,nc)\n",
    "        g.add_node(i,height=h)\n",
    "        i+=1\n",
    "\n",
    "for r in range(nr):\n",
    "    for c in range(nc):\n",
    "        steps = [take_step((r,c),d,data) for d in directions ]\n",
    "        for step in steps:\n",
    "            if step:\n",
    "                if data[step] == data[(r,c)]+1:\n",
    "                    g.add_edge(get_idx(r,c),get_idx(*step))\n",
    "\n",
    "\n"
   ]
  },
  {
   "cell_type": "code",
   "execution_count": null,
   "metadata": {},
   "outputs": [],
   "source": [
    "trailheads = [n[0] for n in g.nodes.items() if n[1]['height']==0]\n",
    "vistas = [n[0] for n in g.nodes.items() if n[1]['height']==9]\n",
    "print(len(trailheads))\n",
    "print(len(vistas))"
   ]
  },
  {
   "cell_type": "code",
   "execution_count": null,
   "metadata": {},
   "outputs": [],
   "source": [
    "# part one\n",
    "print(sum([nx.has_path(g,source=t,target=v) for t in trailheads for v in vistas]))"
   ]
  },
  {
   "cell_type": "code",
   "execution_count": null,
   "metadata": {},
   "outputs": [],
   "source": [
    "# part two\n",
    "print(sum([len(list(nx.all_simple_paths(g,source=t,target=v))) for t in trailheads for v in vistas]))"
   ]
  }
 ],
 "metadata": {
  "kernelspec": {
   "display_name": "aoc",
   "language": "python",
   "name": "python3"
  },
  "language_info": {
   "codemirror_mode": {
    "name": "ipython",
    "version": 3
   },
   "file_extension": ".py",
   "mimetype": "text/x-python",
   "name": "python",
   "nbconvert_exporter": "python",
   "pygments_lexer": "ipython3",
   "version": "3.12.7"
  }
 },
 "nbformat": 4,
 "nbformat_minor": 2
}
