{
 "cells": [
  {
   "cell_type": "code",
   "execution_count": 100,
   "metadata": {},
   "outputs": [],
   "source": [
    "import re\n",
    "import heapq\n",
    "from tqdm import tqdm"
   ]
  },
  {
   "cell_type": "code",
   "execution_count": 101,
   "metadata": {},
   "outputs": [],
   "source": [
    "with open(\"../data/19.txt\") as f:\n",
    "    data = f.read()\n",
    "towels,designs = data.split(\"\\n\\n\")\n",
    "\n",
    "towels = towels.rstrip().split(\", \")\n",
    "designs = designs.rstrip().split(\"\\n\")\n"
   ]
  },
  {
   "cell_type": "code",
   "execution_count": 113,
   "metadata": {},
   "outputs": [
    {
     "name": "stderr",
     "output_type": "stream",
     "text": [
      "100%|██████████| 400/400 [00:10<00:00, 38.10it/s]"
     ]
    },
    {
     "name": "stdout",
     "output_type": "stream",
     "text": [
      "365\n"
     ]
    },
    {
     "name": "stderr",
     "output_type": "stream",
     "text": [
      "\n"
     ]
    }
   ],
   "source": [
    "valid_designs = 0\n",
    "for design in tqdm(designs):\n",
    "    m = None\n",
    "    coverage = []\n",
    "    for t in towels:\n",
    "        m = re.finditer(t,design)\n",
    "        if m:\n",
    "            [coverage.append([r*-1 for r in range(*mm.span())]) for mm in m]\n",
    "        m = None\n",
    "\n",
    "    target = (len(design)-1)*-1\n",
    "\n",
    "    starters = [s for s in coverage if 0 in s]\n",
    "    others = [s for s in coverage if 0 not in s]\n",
    "    ends = [other for other in others if other[-1]==target]\n",
    "    if len(ends)>0:\n",
    "        heap = []\n",
    "        # fill the heap \n",
    "        for start in starters:\n",
    "            heapq.heappush(heap,start[-1])\n",
    "\n",
    "        # initialize leading\n",
    "        leading = 0\n",
    "        iters = 0\n",
    "        while len(heap)>0 and iters<1e6:\n",
    "            leading = heapq.heappop(heap)\n",
    "\n",
    "            \n",
    "            for other in others:\n",
    "                if other[0]==leading-1:\n",
    "                    heapq.heappush(heap,other[-1])\n",
    "            if leading == (len(design)-1)*-1:\n",
    "                valid_designs += 1\n",
    "                break\n",
    "            iters +=1\n",
    "print(valid_designs)"
   ]
  },
  {
   "cell_type": "code",
   "execution_count": null,
   "metadata": {},
   "outputs": [],
   "source": []
  }
 ],
 "metadata": {
  "kernelspec": {
   "display_name": "aoc",
   "language": "python",
   "name": "python3"
  },
  "language_info": {
   "codemirror_mode": {
    "name": "ipython",
    "version": 3
   },
   "file_extension": ".py",
   "mimetype": "text/x-python",
   "name": "python",
   "nbconvert_exporter": "python",
   "pygments_lexer": "ipython3",
   "version": "3.12.2"
  }
 },
 "nbformat": 4,
 "nbformat_minor": 2
}
