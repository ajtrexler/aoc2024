{
 "cells": [
  {
   "cell_type": "code",
   "execution_count": 366,
   "metadata": {},
   "outputs": [],
   "source": [
    "from collections import deque\n",
    "\n",
    "with open(\"../data/9.txt\") as f:\n",
    "    data = f.read().rstrip()\n"
   ]
  },
  {
   "cell_type": "code",
   "execution_count": 374,
   "metadata": {},
   "outputs": [],
   "source": [
    "file_id_counter = 0\n",
    "verbose = []\n",
    "free_spaces = []\n",
    "\n",
    "for i,d in enumerate(data):\n",
    "    if i % 2 == 0:\n",
    "        nextval = str(file_id_counter)\n",
    "        file_id_counter += 1\n",
    "    else:\n",
    "        nextval = \".\"\n",
    "    for _ in range(int(d)):\n",
    "        verbose.append(nextval)\n",
    "        if nextval == \".\":\n",
    "            free_spaces.append(len(verbose)-1)\n",
    "# verbose = \"\".join(verbose)\n",
    "# if len(verbose) < 50:\n",
    "#     print(verbose)\n",
    "\n",
    "verbose = deque(verbose)\n",
    "free_spaces = deque(free_spaces)\n",
    "\n",
    "file_id_counter = file_id_counter-1 # because we added one extra at the end of the formatting step"
   ]
  },
  {
   "cell_type": "code",
   "execution_count": 347,
   "metadata": {},
   "outputs": [],
   "source": [
    "# part one"
   ]
  },
  {
   "cell_type": "code",
   "execution_count": 370,
   "metadata": {},
   "outputs": [],
   "source": [
    "def get_checksum(verbose):\n",
    "    return sum([i*int(v) for i,v in enumerate(verbose) if v!=\".\"])"
   ]
  },
  {
   "cell_type": "code",
   "execution_count": 76,
   "metadata": {},
   "outputs": [
    {
     "name": "stdout",
     "output_type": "stream",
     "text": [
      "1928\n"
     ]
    }
   ],
   "source": [
    "back_idx = len(verbose)-1\n",
    "while True:\n",
    "    if len(free_spaces)>0:\n",
    "        v = verbose.pop()\n",
    "        if v != \".\":\n",
    "            verbose[free_spaces.popleft()] = v\n",
    "        else:\n",
    "            _ = free_spaces.pop()\n",
    "        back_idx += 1\n",
    "    else:\n",
    "        break\n",
    "print(get_checksum(verbose))\n"
   ]
  },
  {
   "cell_type": "code",
   "execution_count": 375,
   "metadata": {},
   "outputs": [],
   "source": [
    "# part two\n",
    "\n",
    "i = 1\n"
   ]
  },
  {
   "cell_type": "code",
   "execution_count": 376,
   "metadata": {},
   "outputs": [],
   "source": [
    "\n",
    "\n",
    "while file_id_counter>0:\n",
    "    file_size = []\n",
    "\n",
    "    while True:\n",
    "        nv = verbose[-1*i]\n",
    "        if nv == str(file_id_counter):\n",
    "            file_size.append(i)\n",
    "        elif nv != str(file_id_counter) and len(file_size)>0:\n",
    "            break\n",
    "        i+=1\n",
    "    # print(file_id_counter,\"size\",file_size)\n",
    "\n",
    "    free_i = 0\n",
    "    free_block = []\n",
    "    # TODO if there is no span to the left of the file, it does not move.\n",
    "    while len(free_block)<len(file_size) and free_i<len(free_spaces) and free_spaces[free_i]<= len(verbose)-i:\n",
    "        if len(free_block) == 0:\n",
    "            free_block.append(free_spaces[free_i])\n",
    "            free_i+=1\n",
    "        elif int(free_spaces[free_i]) == int(free_block[-1])+1:\n",
    "            free_block.append(free_spaces[free_i])\n",
    "            free_i+=1\n",
    "        else:\n",
    "            free_block = []\n",
    "\n",
    "    if len(free_block) == len(file_size):\n",
    "        # print(f'{file_id_counter} moving!')\n",
    "        # print(free_spaces)\n",
    "        # move the file_ids\n",
    "        while len(free_block)>0:\n",
    "            j = free_block.pop()\n",
    "            verbose[j] = str(file_id_counter)\n",
    "            free_spaces.remove(j) \n",
    "\n",
    "        # remove them from the leading edge of verbose\n",
    "        for fi in file_size:\n",
    "            verbose[-1*fi] = \".\"\n",
    "    # else:\n",
    "    #     print(file_id_counter,'will not move.')\n",
    "    file_id_counter -= 1\n",
    "    # print(\"\".join(verbose))\n",
    "\n",
    "\n",
    "    "
   ]
  },
  {
   "cell_type": "code",
   "execution_count": 377,
   "metadata": {},
   "outputs": [
    {
     "data": {
      "text/plain": [
       "6286182965311"
      ]
     },
     "execution_count": 377,
     "metadata": {},
     "output_type": "execute_result"
    }
   ],
   "source": [
    "get_checksum(verbose)"
   ]
  }
 ],
 "metadata": {
  "kernelspec": {
   "display_name": "aoc",
   "language": "python",
   "name": "python3"
  },
  "language_info": {
   "codemirror_mode": {
    "name": "ipython",
    "version": 3
   },
   "file_extension": ".py",
   "mimetype": "text/x-python",
   "name": "python",
   "nbconvert_exporter": "python",
   "pygments_lexer": "ipython3",
   "version": "3.12.7"
  }
 },
 "nbformat": 4,
 "nbformat_minor": 2
}
