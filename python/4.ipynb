{
 "cells": [
  {
   "cell_type": "code",
   "execution_count": 104,
   "metadata": {},
   "outputs": [],
   "source": [
    "with open(\"../data/4.txt\",\"r\") as f:\n",
    "    data = [d.rstrip() for d in f.readlines()]\n",
    "num_rows = len(data[0])\n",
    "num_cols = len(data)\n"
   ]
  },
  {
   "cell_type": "code",
   "execution_count": 80,
   "metadata": {},
   "outputs": [],
   "source": [
    "# part one"
   ]
  },
  {
   "cell_type": "code",
   "execution_count": 105,
   "metadata": {},
   "outputs": [],
   "source": [
    "def take_step(i,step,data=data):\n",
    "    # i = (0,9)\n",
    "    # step = (1,-1)\n",
    "    move = (i[0]+step[0],i[1]+step[1])\n",
    "    if not any([m<0 for m in move]):\n",
    "        try:\n",
    "            return data[move[0]][move[1]]\n",
    "        except:\n",
    "            return None\n",
    "    else:\n",
    "        return None\n"
   ]
  },
  {
   "cell_type": "code",
   "execution_count": 79,
   "metadata": {},
   "outputs": [
    {
     "name": "stdout",
     "output_type": "stream",
     "text": [
      "2578\n"
     ]
    }
   ],
   "source": [
    "directions = [\n",
    "    (0,1),\n",
    "    (0,-1),\n",
    "    (1,0),\n",
    "    (-1,0),\n",
    "    (1,1),\n",
    "    (-1,1),\n",
    "    (1,-1),\n",
    "    (-1,-1)\n",
    "]\n",
    "count = 0\n",
    "for r in range(num_rows):\n",
    "    for c in range(num_cols):\n",
    "        i = (r,c)\n",
    "        if data[r][c] == \"X\":\n",
    "            for direction in directions:\n",
    "                word = \"X\"\n",
    "                n = 1\n",
    "                while n < 4:\n",
    "                    step = [ii*n for ii in direction]\n",
    "                    letter = take_step(i,step)\n",
    "                    # print(letter)\n",
    "                    if letter:\n",
    "                        word += letter\n",
    "                        n += 1\n",
    "                    else:\n",
    "                        break\n",
    "                if word == \"XMAS\":\n",
    "                    count += 1\n",
    "print(count)\n",
    "\n"
   ]
  },
  {
   "cell_type": "code",
   "execution_count": null,
   "metadata": {},
   "outputs": [],
   "source": [
    "# part two"
   ]
  },
  {
   "cell_type": "code",
   "execution_count": 106,
   "metadata": {},
   "outputs": [
    {
     "name": "stdout",
     "output_type": "stream",
     "text": [
      "5541\n"
     ]
    }
   ],
   "source": [
    "directions = [\n",
    "    # (0,1),\n",
    "    # (0,-1),\n",
    "    # (1,0),\n",
    "    # (-1,0),\n",
    "    (1,1),\n",
    "    (-1,1),\n",
    "    (1,-1),\n",
    "    (-1,-1)\n",
    "]\n",
    "count = 0\n",
    "midpoints = []\n",
    "for r in range(num_rows):\n",
    "    for c in range(num_cols):\n",
    "        i = (r,c)\n",
    "        if data[r][c] == \"M\":\n",
    "            for direction in directions:\n",
    "                word = \"M\"\n",
    "                n = 1\n",
    "                mid = None\n",
    "                while n < 3:\n",
    "                    step = [ii*n for ii in direction]\n",
    "                    letter = take_step(i,step)\n",
    "                    # print(letter)\n",
    "                    if letter:\n",
    "                        word += letter\n",
    "                        n += 1\n",
    "                        if letter == \"A\":\n",
    "                            mid = (i[0]+step[0],i[1]+step[1])\n",
    "                    else:\n",
    "                        break\n",
    "                if word == \"MAS\":\n",
    "                    count += 1\n",
    "                    midpoints.append(mid)\n",
    "print(count)"
   ]
  },
  {
   "cell_type": "code",
   "execution_count": 107,
   "metadata": {},
   "outputs": [
    {
     "data": {
      "text/plain": [
       "1972"
      ]
     },
     "execution_count": 107,
     "metadata": {},
     "output_type": "execute_result"
    }
   ],
   "source": [
    "from collections import Counter\n",
    "sum([v==2 for k,v in Counter(midpoints).items()])"
   ]
  },
  {
   "cell_type": "code",
   "execution_count": null,
   "metadata": {},
   "outputs": [],
   "source": []
  }
 ],
 "metadata": {
  "kernelspec": {
   "display_name": "aoc",
   "language": "python",
   "name": "python3"
  },
  "language_info": {
   "codemirror_mode": {
    "name": "ipython",
    "version": 3
   },
   "file_extension": ".py",
   "mimetype": "text/x-python",
   "name": "python",
   "nbconvert_exporter": "python",
   "pygments_lexer": "ipython3",
   "version": "3.12.7"
  }
 },
 "nbformat": 4,
 "nbformat_minor": 2
}
