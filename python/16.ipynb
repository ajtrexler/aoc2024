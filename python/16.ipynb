{
 "cells": [
  {
   "cell_type": "code",
   "execution_count": 347,
   "metadata": {},
   "outputs": [],
   "source": [
    "import networkx as nx\n",
    "import numpy as np\n",
    "from tqdm import tqdm\n",
    "from itertools import combinations"
   ]
  },
  {
   "cell_type": "code",
   "execution_count": 389,
   "metadata": {},
   "outputs": [],
   "source": [
    "with open(\"../data/16.txt\") as f:\n",
    "    data = [line.rstrip() for line in f.readlines()]\n",
    "\n",
    "nr = len(data)\n",
    "nc = len(data[0])\n",
    "data = np.array([dd for d in data for dd in d]).reshape((nr,nc))\n",
    "assert nr == nc"
   ]
  },
  {
   "cell_type": "code",
   "execution_count": 390,
   "metadata": {},
   "outputs": [],
   "source": [
    "def get_idx(r,c,nc=nc):\n",
    "    return (r*nc)+c\n",
    "\n",
    "def invert_idx(idx,nc,nr):\n",
    "    return (idx//nr,idx%nc)\n",
    "\n",
    "def take_step(i,step,data=data):\n",
    "    nr,nc = data.shape\n",
    "    move = (i[0]+step[0],i[1]+step[1])\n",
    "    if move[0]>=0 and move[1]>=0 and move[0]<nc and move[1]<nr and data[move]!=\"#\":\n",
    "        \n",
    "        return move"
   ]
  },
  {
   "cell_type": "code",
   "execution_count": 391,
   "metadata": {},
   "outputs": [],
   "source": [
    "g = nx.Graph()\n",
    "\n",
    "# add all the nodes\n",
    "# with z dimension representing different facings\n",
    "i=0\n",
    "for r in range(nr):\n",
    "    for c in range(nc):\n",
    "        assert i == get_idx(r,c,nc)\n",
    "        [g.add_node(f\"{i}_{z}\") for z in range(4)]\n",
    "        i+=1\n",
    "\n",
    "\n",
    "# directions = [\n",
    "#     (-1,0), \n",
    "#     (1,0),\n",
    "#     (0,1),\n",
    "#     (0,-1)\n",
    "# ]\n",
    "\n",
    "direction_lkup = {\n",
    "    \n",
    "    (0,1):0, # east\n",
    "    (-1,0):1, # north\n",
    "    (0,-1):2, # west\n",
    "    (1,0):3 # south\n",
    "}\n",
    "\n",
    "reverse_direction_lkup = {v:k for k,v in direction_lkup.items()}\n",
    "\n"
   ]
  },
  {
   "cell_type": "code",
   "execution_count": 392,
   "metadata": {},
   "outputs": [],
   "source": [
    "\n",
    "# add xy edges for each position\n",
    "for r in range(nr):\n",
    "    for c in range(nc):\n",
    "        if data[r,c] != \"#\":\n",
    "            for z in range(4):\n",
    "                step = take_step((r,c),reverse_direction_lkup[z],data)\n",
    "                if step:\n",
    "                    g.add_edge(f\"{get_idx(r,c)}_{z}\",f\"{get_idx(*step)}_{z}\",weight=1)\n",
    "\n",
    "for r in range(nr):\n",
    "    for c in range(nc):\n",
    "        if data[r,c] != \"#\":\n",
    "            [g.add_edge(f\"{get_idx(r,c)}_{z}\",f\"{get_idx(r,c)}_{(z+1)%4}\",weight=1000) for z in range(4)]\n"
   ]
  },
  {
   "cell_type": "code",
   "execution_count": 393,
   "metadata": {},
   "outputs": [],
   "source": [
    "start = np.where(data==\"S\")\n",
    "start = get_idx(start[0][0],start[1][0],nc)\n",
    "\n",
    "end = np.where(data==\"E\")\n",
    "end = get_idx(end[0][0],end[1][0],nc)\n"
   ]
  },
  {
   "cell_type": "code",
   "execution_count": 394,
   "metadata": {},
   "outputs": [],
   "source": [
    "shortest = nx.shortest_path_length(g,target=f\"{int(start)}_0\",weight=\"weight\")"
   ]
  },
  {
   "cell_type": "code",
   "execution_count": 395,
   "metadata": {},
   "outputs": [],
   "source": [
    "shortest_paths = [shortest[f\"{int(end)}_{z}\"] for z in range(4)]\n"
   ]
  },
  {
   "cell_type": "code",
   "execution_count": 396,
   "metadata": {},
   "outputs": [
    {
     "data": {
      "text/plain": [
       "82460"
      ]
     },
     "execution_count": 396,
     "metadata": {},
     "output_type": "execute_result"
    }
   ],
   "source": [
    "min(shortest_paths)"
   ]
  }
 ],
 "metadata": {
  "kernelspec": {
   "display_name": "aoc",
   "language": "python",
   "name": "python3"
  },
  "language_info": {
   "codemirror_mode": {
    "name": "ipython",
    "version": 3
   },
   "file_extension": ".py",
   "mimetype": "text/x-python",
   "name": "python",
   "nbconvert_exporter": "python",
   "pygments_lexer": "ipython3",
   "version": "3.12.2"
  }
 },
 "nbformat": 4,
 "nbformat_minor": 2
}
