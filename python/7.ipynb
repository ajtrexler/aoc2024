{
 "cells": [
  {
   "cell_type": "code",
   "execution_count": 103,
   "metadata": {},
   "outputs": [],
   "source": [
    "from itertools import product\n",
    "from tqdm import tqdm"
   ]
  },
  {
   "cell_type": "code",
   "execution_count": 104,
   "metadata": {},
   "outputs": [],
   "source": [
    "with open(\"../data/7test.txt\") as f:\n",
    "    data =   [line.rstrip() for line in f.readlines()]\n",
    "\n",
    "equations = []\n",
    "for d in data:\n",
    "    v,nums = d.split(\": \")\n",
    "    equations.append((int(v),[n for n in nums.lstrip().split(\" \")]))\n",
    "\n",
    "ops= \"+*\""
   ]
  },
  {
   "cell_type": "code",
   "execution_count": 105,
   "metadata": {},
   "outputs": [],
   "source": [
    "def eval_answer_no_precedence(p,nums):       \n",
    "    ans = eval(p[0].replace(\"|\",\"\").join(nums[:2]))\n",
    "    for i,pp in enumerate(p[1:]):\n",
    "        ans = eval(pp.replace(\"|\",\"\").join([str(ans)]+[nums[2+i]]))\n",
    "    return ans"
   ]
  },
  {
   "cell_type": "code",
   "execution_count": 107,
   "metadata": {},
   "outputs": [
    {
     "name": "stderr",
     "output_type": "stream",
     "text": [
      "100%|██████████| 9/9 [00:00<00:00, 4217.74it/s]"
     ]
    },
    {
     "name": "stdout",
     "output_type": "stream",
     "text": [
      "11387\n"
     ]
    },
    {
     "name": "stderr",
     "output_type": "stream",
     "text": [
      "\n"
     ]
    }
   ],
   "source": [
    "vals = []\n",
    "\n",
    "for equation in tqdm(equations):\n",
    "    # print(equation)\n",
    "    num_slots = len(equation[1]) - 1\n",
    "    for p in product(\"+*|\",repeat=num_slots):\n",
    "        if eval_answer_no_precedence(p,equation[1]) == equation[0]:\n",
    "            vals.append(equation[0])\n",
    "            break\n",
    "print(sum(vals))"
   ]
  }
 ],
 "metadata": {
  "kernelspec": {
   "display_name": "aoc",
   "language": "python",
   "name": "python3"
  },
  "language_info": {
   "codemirror_mode": {
    "name": "ipython",
    "version": 3
   },
   "file_extension": ".py",
   "mimetype": "text/x-python",
   "name": "python",
   "nbconvert_exporter": "python",
   "pygments_lexer": "ipython3",
   "version": "3.12.7"
  }
 },
 "nbformat": 4,
 "nbformat_minor": 2
}
