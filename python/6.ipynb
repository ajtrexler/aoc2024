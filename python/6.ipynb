{
 "cells": [
  {
   "cell_type": "code",
   "execution_count": 186,
   "metadata": {},
   "outputs": [],
   "source": [
    "import numpy as np\n",
    "from tqdm import tqdm"
   ]
  },
  {
   "cell_type": "code",
   "execution_count": 195,
   "metadata": {},
   "outputs": [],
   "source": [
    "with open(\"../data/6.txt\") as f:\n",
    "    data = [line.rstrip() for line in f.readlines()]\n",
    "\n",
    "nr = len(data)\n",
    "nc = len(data[0])\n",
    "\n",
    "\n",
    "cardinals = {\"^\": (-1, 0), \">\": (0, 1), \"<\": (0, -1), \"v\": (1, 0)}\n",
    "cardinal_lookup = {\"^\":0,\">\":1,\"v\":2,\"<\":3}\n",
    "\n",
    "reverse_lookup = {v:k for k,v in cardinal_lookup.items()}\n",
    "for k,v in cardinals.items():\n",
    "    cardinals[k] = np.array(v)\n",
    "\n",
    "for i in range(nr):\n",
    "    for j in range(nc):\n",
    "        if data[i][j] in cardinals:\n",
    "            start_pos = np.array([i, j])\n",
    "            start_facing = data[start_pos[0]][start_pos[1]]\n",
    "            start_direction = cardinals[start_facing]\n",
    "data = np.array([0 if d=='.' else -1 for line in data for d in line]).reshape((nr,nc))\n",
    "data[start_pos[0],start_pos[1]] = 1"
   ]
  },
  {
   "cell_type": "code",
   "execution_count": 196,
   "metadata": {},
   "outputs": [],
   "source": [
    "def valid_step(pos,nr=nr,nc=nc):\n",
    "    return pos[0]>=0 and pos[1]>=0 and pos[0]<=nr-1 and pos[1]<=nc-1\n",
    "\n",
    "def simulate_guard_route(pos,data,facing,direction):\n",
    "    steps = 0\n",
    "    turns = 0\n",
    "    rounds = 0\n",
    "    loop_detector = {f\"{pos[0]}_{pos[1]}_{facing}\":1}\n",
    "    while True:\n",
    "        next_pos = pos + direction\n",
    "        if not valid_step(next_pos):\n",
    "            # print(f\"guard goes off the map at {next_pos}\")\n",
    "            break\n",
    "        \n",
    "        if data[next_pos[0],next_pos[1]] in [0,1]:\n",
    "            pos = next_pos\n",
    "            steps += 1\n",
    "        else: # go right\n",
    "            facing = reverse_lookup[(turns + 1) % 4]\n",
    "            direction = cardinals[facing]\n",
    "            turns += 1\n",
    "        data[pos[0],pos[1]] = 1\n",
    "        rounds +=1\n",
    "        loop_idx = f\"{pos[0]}_{pos[1]}_{facing}\"\n",
    "        if loop_idx in loop_detector:\n",
    "            # print(\"loop detected!\")\n",
    "            return None\n",
    "        loop_detector[f\"{pos[0]}_{pos[1]}_{facing}\"]=1\n",
    "    return (int((data==1).sum()),rounds,data)\n"
   ]
  },
  {
   "cell_type": "code",
   "execution_count": null,
   "metadata": {},
   "outputs": [],
   "source": [
    "# part one"
   ]
  },
  {
   "cell_type": "code",
   "execution_count": 197,
   "metadata": {},
   "outputs": [
    {
     "name": "stdout",
     "output_type": "stream",
     "text": [
      "4602\n"
     ]
    }
   ],
   "source": [
    "answer,num_rounds,new_data = simulate_guard_route(start_pos,np.copy(data),start_facing,start_direction)\n",
    "print(answer)"
   ]
  },
  {
   "cell_type": "code",
   "execution_count": 198,
   "metadata": {},
   "outputs": [],
   "source": [
    "# part two\n",
    "visited_spots = [(int(r),int(c)) for r,c in zip(*np.where(new_data==1))]\n"
   ]
  },
  {
   "cell_type": "code",
   "execution_count": 199,
   "metadata": {},
   "outputs": [
    {
     "name": "stderr",
     "output_type": "stream",
     "text": [
      "100%|██████████| 4602/4602 [00:19<00:00, 241.44it/s]\n"
     ]
    }
   ],
   "source": [
    "loop_obs = 0\n",
    "for vs in tqdm(visited_spots):\n",
    "    dc = np.copy(data)\n",
    "    dc[vs[0],vs[1]] = -1\n",
    "    resp = simulate_guard_route(start_pos,dc,start_facing,start_direction)\n",
    "    if not resp:\n",
    "        loop_obs += 1\n",
    "\n",
    "    "
   ]
  },
  {
   "cell_type": "code",
   "execution_count": null,
   "metadata": {},
   "outputs": [
    {
     "data": {
      "text/plain": [
       "1704"
      ]
     },
     "execution_count": 200,
     "metadata": {},
     "output_type": "execute_result"
    }
   ],
   "source": [
    "loop_obs - 1"
   ]
  },
  {
   "cell_type": "code",
   "execution_count": null,
   "metadata": {},
   "outputs": [],
   "source": []
  }
 ],
 "metadata": {
  "kernelspec": {
   "display_name": "aoc",
   "language": "python",
   "name": "python3"
  },
  "language_info": {
   "codemirror_mode": {
    "name": "ipython",
    "version": 3
   },
   "file_extension": ".py",
   "mimetype": "text/x-python",
   "name": "python",
   "nbconvert_exporter": "python",
   "pygments_lexer": "ipython3",
   "version": "3.12.7"
  }
 },
 "nbformat": 4,
 "nbformat_minor": 2
}
