{
 "cells": [
  {
   "cell_type": "code",
   "execution_count": null,
   "metadata": {},
   "outputs": [],
   "source": [
    "from typing import List\n",
    "\n",
    "from functools import cache\n",
    "from tqdm import tqdm"
   ]
  },
  {
   "cell_type": "code",
   "execution_count": 5,
   "metadata": {},
   "outputs": [],
   "source": [
    "with open(\"../data/11.txt\") as f:\n",
    "    stones = [int(s) for s in f.read().split(\" \")]"
   ]
  },
  {
   "cell_type": "code",
   "execution_count": 3,
   "metadata": {},
   "outputs": [],
   "source": [
    "def update_stone(s:int)->List[int]:\n",
    "    if s ==0:\n",
    "        return [1]\n",
    "    elif len(str(s)) % 2 ==0:\n",
    "        s = str(s)\n",
    "        return [int(s[:len(s)//2]),int(s[len(s)//2:])]\n",
    "    else:\n",
    "        return [s*2024]\n",
    "    \n",
    "assert update_stone(999) == [2021976]\n",
    "assert update_stone(0) == [1]\n",
    "assert update_stone(1) == [2024]\n",
    "assert update_stone(10) == [1,0]\n",
    "assert update_stone(99) == [9,9]\n",
    "\n",
    "@cache\n",
    "def follow_stone(s,steps):\n",
    "    total = 1\n",
    "    for i in range(steps):\n",
    "        new_s = update_stone(s)\n",
    "        if len(new_s)==1:\n",
    "            s = new_s[0]\n",
    "        else:\n",
    "            s = new_s[0]\n",
    "            total+=follow_stone(new_s[1],steps-(i+1))\n",
    "    return total\n",
    "    "
   ]
  },
  {
   "cell_type": "code",
   "execution_count": null,
   "metadata": {},
   "outputs": [
    {
     "name": "stderr",
     "output_type": "stream",
     "text": [
      "100%|██████████| 8/8 [00:00<00:00, 44.51it/s]\n"
     ]
    },
    {
     "data": {
      "text/plain": [
       "240954878211138"
      ]
     },
     "execution_count": 6,
     "metadata": {},
     "output_type": "execute_result"
    }
   ],
   "source": [
    "# part two\n",
    "sum([follow_stone(s,75) for s in tqdm(stones)])"
   ]
  },
  {
   "cell_type": "code",
   "execution_count": null,
   "metadata": {},
   "outputs": [
    {
     "name": "stdout",
     "output_type": "stream",
     "text": [
      "203609\n"
     ]
    }
   ],
   "source": [
    "# part one \n",
    "lengths = [len(stones)]\n",
    "for _ in range(25):\n",
    "    new_stones = []\n",
    "    for s in stones:\n",
    "        new_s = update_stone(s)\n",
    "        for  ns in new_s:\n",
    "            new_stones.append(ns)\n",
    "    stones = new_stones\n",
    "    lengths.append(len(stones))\n",
    "print(lengths[-1])\n",
    "\n",
    "\n"
   ]
  }
 ],
 "metadata": {
  "kernelspec": {
   "display_name": "aoc",
   "language": "python",
   "name": "python3"
  },
  "language_info": {
   "codemirror_mode": {
    "name": "ipython",
    "version": 3
   },
   "file_extension": ".py",
   "mimetype": "text/x-python",
   "name": "python",
   "nbconvert_exporter": "python",
   "pygments_lexer": "ipython3",
   "version": "3.12.7"
  }
 },
 "nbformat": 4,
 "nbformat_minor": 2
}
