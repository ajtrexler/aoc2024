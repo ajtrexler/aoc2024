{
 "cells": [
  {
   "cell_type": "code",
   "execution_count": 1,
   "metadata": {},
   "outputs": [],
   "source": [
    "import numpy as np"
   ]
  },
  {
   "cell_type": "code",
   "execution_count": 283,
   "metadata": {},
   "outputs": [],
   "source": [
    "with open(\"../data/15.txt\") as f:\n",
    "    data = f.readlines()\n",
    "moves = []\n",
    "grid = []\n",
    "switch = None\n",
    "for line in data:\n",
    "    if line == \"\\n\":\n",
    "        switch = True\n",
    "    if switch:\n",
    "        moves.append(line.rstrip())\n",
    "    else:\n",
    "        grid.append(line.rstrip())\n",
    "moves = moves[1:]\n",
    "moves = [mm for move in moves for mm in move]\n",
    "nr = len(grid)\n",
    "nc = len(grid[0])\n",
    "grid = np.array([dd for d in grid for dd in d]).reshape((nr,nc))\n",
    "assert nr == nc"
   ]
  },
  {
   "cell_type": "code",
   "execution_count": 285,
   "metadata": {},
   "outputs": [],
   "source": [
    "robot = np.where(grid==\"@\")\n",
    "robot = (robot[0][0],robot[1][0])"
   ]
  },
  {
   "cell_type": "code",
   "execution_count": 286,
   "metadata": {},
   "outputs": [],
   "source": [
    "def get_idx(r,c,nc=nc):\n",
    "    return (r*nc)+c\n",
    "\n",
    "def invert_idx(idx,nc,nr):\n",
    "    return (idx//nr,idx%nc)\n",
    "\n",
    "cardinals = {\"^\": (-1, 0), \">\": (0, 1), \"<\": (0, -1), \"v\": (1, 0)}\n",
    "cardinals = {k:np.array(v) for k,v in cardinals.items()}\n"
   ]
  },
  {
   "cell_type": "code",
   "execution_count": 291,
   "metadata": {},
   "outputs": [],
   "source": [
    "def check_moves(robot,m,grid):\n",
    "    # gives the number of steps between robot and the empty space\n",
    "    # iterate backwards on n, moving things one step\n",
    "    i = 1\n",
    "    while True:\n",
    "        new_pos = robot+(cardinals[m]*i)\n",
    "        if grid[*new_pos] == \".\":\n",
    "            # print('empty spot',new_pos)\n",
    "            return i\n",
    "        elif grid[*new_pos] == \"#\":\n",
    "            return None\n",
    "        i += 1\n",
    "grid\n",
    "j=0\n",
    "for m in moves:\n",
    "# m = moves[j]\n",
    "    # print(m)\n",
    "    steps = check_moves(robot,m,grid)\n",
    "    if steps:\n",
    "        if steps > 1:\n",
    "            for s in range(steps-1,0,-1):\n",
    "                old_pos = robot+(cardinals[m]*s)\n",
    "                new_pos = robot+(cardinals[m]*(s+1))\n",
    "                # print(old_pos,\"to\",new_pos)\n",
    "                grid[*new_pos] = grid[*old_pos]\n",
    "                grid[*old_pos] = \".\"\n",
    "        grid[*robot] = \".\"\n",
    "        robot = robot+cardinals[m]\n",
    "        grid[*robot] = \"@\"\n",
    "    # print(grid)\n",
    "\n",
    "    j+=1\n",
    "\n",
    "        \n",
    "    "
   ]
  },
  {
   "cell_type": "code",
   "execution_count": 292,
   "metadata": {},
   "outputs": [
    {
     "data": {
      "text/plain": [
       "np.int64(1538871)"
      ]
     },
     "execution_count": 292,
     "metadata": {},
     "output_type": "execute_result"
    }
   ],
   "source": [
    "sum([(100*x+y) for x,y in zip(*np.where(grid==\"O\"))])"
   ]
  },
  {
   "cell_type": "code",
   "execution_count": null,
   "metadata": {},
   "outputs": [],
   "source": []
  }
 ],
 "metadata": {
  "kernelspec": {
   "display_name": "aoc",
   "language": "python",
   "name": "python3"
  },
  "language_info": {
   "codemirror_mode": {
    "name": "ipython",
    "version": 3
   },
   "file_extension": ".py",
   "mimetype": "text/x-python",
   "name": "python",
   "nbconvert_exporter": "python",
   "pygments_lexer": "ipython3",
   "version": "3.12.2"
  }
 },
 "nbformat": 4,
 "nbformat_minor": 2
}
