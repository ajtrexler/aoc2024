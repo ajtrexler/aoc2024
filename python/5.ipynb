{
 "cells": [
  {
   "cell_type": "code",
   "execution_count": 3,
   "metadata": {},
   "outputs": [],
   "source": [
    "from collections import defaultdict"
   ]
  },
  {
   "cell_type": "code",
   "execution_count": 162,
   "metadata": {},
   "outputs": [],
   "source": [
    "with open(\"../data/5.txt\", \"r\") as f:\n",
    "    data = f.readlines()\n",
    "\n",
    "rules = defaultdict(list)\n",
    "updates = []\n",
    "\n",
    "for line in data:\n",
    "    if \"|\" in line:\n",
    "        nums = [int(n) for n in line.rstrip().split(\"|\")]\n",
    "        for num in nums:\n",
    "            rules[num].append(nums)\n",
    "    if \",\" in line:\n",
    "        updates.append([int(n) for n in line.rstrip().split(\",\")])\n",
    "\n",
    "# organize rules\n",
    "for n,rule in rules.items():\n",
    "    before = []\n",
    "    after = []\n",
    "    for r in rule:\n",
    "        if r[0] == n:\n",
    "            after.append(r[1])\n",
    "        else:\n",
    "            before.append(r[0])\n",
    "    rules[n] = (before,after)"
   ]
  },
  {
   "cell_type": "code",
   "execution_count": 163,
   "metadata": {},
   "outputs": [
    {
     "name": "stdout",
     "output_type": "stream",
     "text": [
      "5991\n"
     ]
    }
   ],
   "source": [
    "def valid_update(update, rules):\n",
    "    for i,n in enumerate(update):\n",
    "        if n in rules:\n",
    "            for b in rules[n][0]:\n",
    "                try:\n",
    "                    if update.index(b) > i:\n",
    "                        raise\n",
    "                except ValueError as e:\n",
    "                    continue\n",
    "                except Exception as e:\n",
    "                    return False\n",
    "            for b in rules[n][1]:\n",
    "                try:\n",
    "                    if update.index(b) < i:\n",
    "                        raise\n",
    "                except ValueError as e:\n",
    "                    continue\n",
    "                except Exception as e:\n",
    "                    print(e)\n",
    "                    return False\n",
    "    return update[len(update)//2]\n",
    "check_valid = [valid_update(update,rules) for update in updates]\n",
    "print(sum(check_valid))        "
   ]
  },
  {
   "cell_type": "code",
   "execution_count": 164,
   "metadata": {},
   "outputs": [],
   "source": [
    "def fix_invalid(update, rules):\n",
    "    for i,n in enumerate(update):\n",
    "        if n in rules:\n",
    "            for b in rules[n][0]:\n",
    "                try:\n",
    "                    if update.index(b) > i:\n",
    "                        raise\n",
    "                except ValueError as e:\n",
    "                    continue\n",
    "                except Exception as e:\n",
    "                    # print(update,\"prefix\")\n",
    "                    update.remove(b)\n",
    "                    idx = i-1 if i>=1 else 0\n",
    "                    update.insert(idx,b)\n",
    "                    # print(update,\"postfix.\")\n",
    "            for b in rules[n][1]:\n",
    "                try:\n",
    "                    if update.index(b) < i:\n",
    "                        raise\n",
    "                except ValueError as e:\n",
    "                    continue\n",
    "                except Exception as e:\n",
    "                    update.remove(b)\n",
    "                    update.insert(i+1,b)\n",
    "    return update\n"
   ]
  },
  {
   "cell_type": "code",
   "execution_count": 165,
   "metadata": {},
   "outputs": [
    {
     "name": "stdout",
     "output_type": "stream",
     "text": [
      "5479\n"
     ]
    }
   ],
   "source": [
    "vals = []\n",
    "check_valid = [valid_update(update,rules) for update in updates]\n",
    "invalids = [updates[i] for i,v in enumerate(check_valid) if not v]\n",
    "\n",
    "# print(invalids)\n",
    "# print('beginning process')\n",
    "while len(invalids) > 0:\n",
    "    for i,invalid in enumerate(invalids):\n",
    "        update = fix_invalid(invalid,rules)\n",
    "        chk = valid_update(update,rules)\n",
    "        if chk:\n",
    "            vals.append(chk)\n",
    "            del invalids[i]\n",
    "    # print(vals)\n",
    "    # print(invalids)\n",
    "print(sum(vals))"
   ]
  }
 ],
 "metadata": {
  "kernelspec": {
   "display_name": "aoc",
   "language": "python",
   "name": "python3"
  },
  "language_info": {
   "codemirror_mode": {
    "name": "ipython",
    "version": 3
   },
   "file_extension": ".py",
   "mimetype": "text/x-python",
   "name": "python",
   "nbconvert_exporter": "python",
   "pygments_lexer": "ipython3",
   "version": "3.12.7"
  }
 },
 "nbformat": 4,
 "nbformat_minor": 2
}
