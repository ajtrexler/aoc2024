{
 "cells": [
  {
   "cell_type": "code",
   "execution_count": 89,
   "metadata": {},
   "outputs": [],
   "source": [
    "from operator import or_,and_,xor\n",
    "import re"
   ]
  },
  {
   "cell_type": "code",
   "execution_count": null,
   "metadata": {},
   "outputs": [],
   "source": [
    "with open(\"../data/24test.txt\") as  f:\n",
    "    data = [line.rstrip() for line in f.readlines()]\n",
    "\n",
    "wires = {}\n",
    "connections = {}\n",
    "\n",
    "for line in data:\n",
    "    if \":\" in line:\n",
    "        wire,value = line.split(\":\")\n",
    "        wires[wire] = int(value)\n",
    "    elif \"->\" in line:\n",
    "        value,wire = line.split(\" -> \")\n",
    "        connections[wire] = value\n",
    "\n",
    "ops = {\" OR \":or_,\n",
    "       \" AND \":and_,\n",
    "       \" XOR \":xor}\n",
    "\n",
    "unset_wires = []\n",
    "\n",
    "for k,v in connections.items():\n",
    "    op = re.search(\" OR | AND | XOR \",v).group()\n",
    "    unset_wires.extend(v.split(op))\n",
    "    if k not in wires:\n",
    "        unset_wires.append(k)\n",
    "unset_wires = set(unset_wires)\n",
    "\n",
    "for k,v in wires.items():\n",
    "    if k in unset_wires:\n",
    "        unset_wires.remove(k)        "
   ]
  },
  {
   "cell_type": "code",
   "execution_count": 140,
   "metadata": {},
   "outputs": [],
   "source": [
    "i=0\n",
    "while len(unset_wires)>0:\n",
    "    for out,conn in connections.items():\n",
    "        # if out not in wires:\n",
    "        op = re.search(\" OR | AND | XOR \",conn).group()\n",
    "        x,y = conn.split(op)\n",
    "        if x in wires and y in wires:\n",
    "            x = wires[x]\n",
    "            y = wires[y]\n",
    "            wires[out] = ops[op](x,y)\n",
    "            if out in unset_wires:\n",
    "                unset_wires.remove(out)\n",
    "    i += 1"
   ]
  },
  {
   "cell_type": "code",
   "execution_count": 141,
   "metadata": {},
   "outputs": [
    {
     "data": {
      "text/plain": [
       "51715173446832"
      ]
     },
     "execution_count": 141,
     "metadata": {},
     "output_type": "execute_result"
    }
   ],
   "source": [
    "output = []\n",
    "for k,v in wires.items():\n",
    "    if \"z\" in k:\n",
    "        output.append((k.replace(\"z\",\"\"),k,v))\n",
    "int(\"\".join([str(p[2]) for p in sorted(output,reverse=True)]),2)"
   ]
  }
 ],
 "metadata": {
  "kernelspec": {
   "display_name": "aoc",
   "language": "python",
   "name": "python3"
  },
  "language_info": {
   "codemirror_mode": {
    "name": "ipython",
    "version": 3
   },
   "file_extension": ".py",
   "mimetype": "text/x-python",
   "name": "python",
   "nbconvert_exporter": "python",
   "pygments_lexer": "ipython3",
   "version": "3.12.2"
  }
 },
 "nbformat": 4,
 "nbformat_minor": 2
}
