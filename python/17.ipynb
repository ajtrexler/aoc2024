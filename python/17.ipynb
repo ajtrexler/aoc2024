{
 "cells": [
  {
   "cell_type": "code",
   "execution_count": 56,
   "metadata": {},
   "outputs": [],
   "source": [
    "with open(\"../data/17.txt\") as f:\n",
    "    data = f.readlines()\n",
    "for line in data:\n",
    "    line = line.rstrip()\n",
    "    if len(line)>1:\n",
    "        n,vals = line.split(\": \")\n",
    "        if \"A\" in n:\n",
    "            register_a = int(vals)\n",
    "        elif \"B\" in n:\n",
    "            register_b = int(vals)\n",
    "        elif \"C\" in n:\n",
    "            register_c = int(vals)\n",
    "        elif \"P\" in n:\n",
    "            program = vals\n",
    "    "
   ]
  },
  {
   "cell_type": "code",
   "execution_count": 85,
   "metadata": {},
   "outputs": [
    {
     "ename": "AssertionError",
     "evalue": "",
     "output_type": "error",
     "traceback": [
      "\u001b[0;31m---------------------------------------------------------------------------\u001b[0m",
      "\u001b[0;31mAssertionError\u001b[0m                            Traceback (most recent call last)",
      "Cell \u001b[0;32mIn[85], line 120\u001b[0m\n\u001b[1;32m    118\u001b[0m exb \u001b[38;5;241m=\u001b[39m Computer(program\u001b[38;5;241m=\u001b[39m\u001b[38;5;124m\"\u001b[39m\u001b[38;5;124m5,0,5,1,5,4\u001b[39m\u001b[38;5;124m\"\u001b[39m, a\u001b[38;5;241m=\u001b[39m\u001b[38;5;241m10\u001b[39m)\n\u001b[1;32m    119\u001b[0m exb\u001b[38;5;241m.\u001b[39mexecute()\n\u001b[0;32m--> 120\u001b[0m \u001b[38;5;28;01massert\u001b[39;00m exb\u001b[38;5;241m.\u001b[39moutput \u001b[38;5;241m==\u001b[39m \u001b[38;5;124m\"\u001b[39m\u001b[38;5;124m0,1,2\u001b[39m\u001b[38;5;124m\"\u001b[39m\n\u001b[1;32m    122\u001b[0m exc \u001b[38;5;241m=\u001b[39m Computer(program\u001b[38;5;241m=\u001b[39m\u001b[38;5;124m\"\u001b[39m\u001b[38;5;124m0,1,5,4,3,0\u001b[39m\u001b[38;5;124m\"\u001b[39m,a\u001b[38;5;241m=\u001b[39m\u001b[38;5;241m2024\u001b[39m)\n\u001b[1;32m    123\u001b[0m \u001b[38;5;28mprint\u001b[39m(exc\u001b[38;5;241m.\u001b[39mprogram)\n",
      "\u001b[0;31mAssertionError\u001b[0m: "
     ]
    }
   ],
   "source": [
    "class Computer():\n",
    "    def __init__(self,program, a=0,b=0,c=0, part_two=False):\n",
    "        self.part_two = part_two\n",
    "        self.a = a\n",
    "        if self.part_two:\n",
    "            self.start_a = self.a\n",
    "        self.b = b\n",
    "        self.c = c\n",
    "\n",
    "        self.program = [int(i) for i in program.split(\",\")]\n",
    "        self.pointer = 0\n",
    "        self.output = []\n",
    "\n",
    "        self.opcodes = {\n",
    "            0:self.adv,\n",
    "            1:self.bxl,\n",
    "            2:self.bst,\n",
    "            3:self.jnz,\n",
    "            4:self.bxc,\n",
    "            5:self.out,\n",
    "            6:self.bdv,\n",
    "            7:self.cdv\n",
    "        }\n",
    "\n",
    "    def combo_operands(self,operand):\n",
    "        lkup = {\n",
    "            0:0,\n",
    "            1:1,\n",
    "            2:2,\n",
    "            3:3,\n",
    "            4:self.a,\n",
    "            5:self.b,\n",
    "            6:self.c,\n",
    "            7:None\n",
    "        }\n",
    "        return lkup[operand]\n",
    "\n",
    "    def dv(self,operand):\n",
    "        return int(self.a / 2**self.combo_operands(operand))\n",
    "\n",
    "    def adv(self,operand):\n",
    "        self.a = self.dv(operand)\n",
    "\n",
    "    def bxl(self,operand):\n",
    "        self.b = self.b ^ operand\n",
    "\n",
    "    def bst(self,operand):\n",
    "        self.b = self.combo_operands(operand) % 8\n",
    "\n",
    "    def jnz(self,operand):\n",
    "        if self.a != 0:\n",
    "            self.pointer = operand\n",
    "            self.pointer -= 2\n",
    "    \n",
    "    def bxc(self,operand):\n",
    "        self.b = self.b ^ self.c\n",
    "\n",
    "    def out(self,operand):\n",
    "        self.output.append(self.combo_operands(operand) % 8)\n",
    "\n",
    "    def bdv(self,operand):\n",
    "        self.b = self.dv(operand)\n",
    "\n",
    "    def cdv(self,operand):\n",
    "        self.c = self.dv(operand)\n",
    "    \n",
    "    def print_state(self):\n",
    "        print(\"point\",self.pointer)\n",
    "        print(\"a:\",self.a)\n",
    "        print(\"b:\",self.b)\n",
    "        print(\"c:\",self.c)\n",
    "        print(self.output)\n",
    "\n",
    "    def invalid_output(self):\n",
    "        for i,o in enumerate(self.output):\n",
    "            if self.program[i] != o:\n",
    "                return True\n",
    "        return False\n",
    "\n",
    "\n",
    "    def execute(self):\n",
    "        self.steps = 0\n",
    "        # print(\"initial state\")\n",
    "        # self.print_state()\n",
    "        while self.pointer < len(self.program):\n",
    "            if self.part_two:\n",
    "                if len(self.output)>len(self.program):\n",
    "                    break\n",
    "            opcode = self.opcodes[self.program[self.pointer]]\n",
    "            # print(\"opcode:\",self.program[self.pointer])\n",
    "            # print(\"operand\",self.program[self.pointer+1])\n",
    "            opcode(self.program[self.pointer+1])\n",
    "            self.pointer += 2\n",
    "            # print(\"after\")\n",
    "            # self.print_state()\n",
    "            self.steps += 1\n",
    "            if len(self.output)>0:\n",
    "                if self.invalid_output():\n",
    "                    return None\n",
    "\n",
    "        self.output = \",\".join([str(o) for o in self.output])\n",
    "        if self.part_two:\n",
    "            if self.output == \",\".join([str(p) for p in self.program]):\n",
    "                return self.start_a\n",
    "            else:\n",
    "                return None\n",
    "\n",
    "            \n",
    "\n",
    "        \n",
    "\n",
    "\n",
    "exa = Computer(\"2,6\",c=9)\n",
    "assert exa.c == 9\n",
    "exa.execute()\n",
    "assert exa.b == 1\n",
    "\n",
    "exb = Computer(program=\"5,0,5,1,5,4\", a=10)\n",
    "exb.execute()\n",
    "assert exb.output == \"0,1,2\"\n",
    "\n",
    "exc = Computer(program=\"0,1,5,4,3,0\",a=2024)\n",
    "print(exc.program)\n",
    "exc.execute()\n",
    "\n",
    "assert exc.a == 0\n",
    "assert exc.output == \"4,2,5,6,7,7,7,7,3,1,0\"\n",
    "\n",
    "exd = Computer(program=\"1,7\",b=29)\n",
    "exd.execute()\n",
    "assert exd.b == 26\n",
    "\n",
    "exe = Computer(program=\"4,0\",b=2024,c=43690)\n",
    "exe.execute()\n",
    "assert exe.b == 44354"
   ]
  },
  {
   "cell_type": "code",
   "execution_count": 79,
   "metadata": {},
   "outputs": [
    {
     "data": {
      "text/plain": [
       "'2,1,4,7,6,0,3,1,4'"
      ]
     },
     "execution_count": 79,
     "metadata": {},
     "output_type": "execute_result"
    }
   ],
   "source": [
    "part_one = Computer(program=program,a=register_a,b=register_b,c=register_c)\n",
    "part_one.execute()\n",
    "# print(part_one.output)\n",
    "# assert testa.output == \"4,6,3,5,6,3,5,2,1,0\"\n",
    "part_one.output"
   ]
  },
  {
   "cell_type": "code",
   "execution_count": null,
   "metadata": {},
   "outputs": [
    {
     "name": "stdout",
     "output_type": "stream",
     "text": [
      "117440\n"
     ]
    }
   ],
   "source": [
    "i = 0\n",
    "\n",
    "while True:\n",
    "    part_two = Computer(program=\"0,3,5,4,3,0\",a=i,b=0,c=0,part_two=True)\n",
    "    ret = part_two.execute()\n",
    "    if ret:\n",
    "        print(ret)\n",
    "        break\n",
    "    i += 1"
   ]
  },
  {
   "cell_type": "code",
   "execution_count": 87,
   "metadata": {},
   "outputs": [
    {
     "ename": "KeyboardInterrupt",
     "evalue": "",
     "output_type": "error",
     "traceback": [
      "\u001b[0;31m---------------------------------------------------------------------------\u001b[0m",
      "\u001b[0;31mKeyboardInterrupt\u001b[0m                         Traceback (most recent call last)",
      "Cell \u001b[0;32mIn[87], line 3\u001b[0m\n\u001b[1;32m      1\u001b[0m i \u001b[38;5;241m=\u001b[39m \u001b[38;5;241m0\u001b[39m\n\u001b[1;32m      2\u001b[0m \u001b[38;5;28;01mwhile\u001b[39;00m \u001b[38;5;28;01mTrue\u001b[39;00m:\n\u001b[0;32m----> 3\u001b[0m     part_two \u001b[38;5;241m=\u001b[39m Computer(program\u001b[38;5;241m=\u001b[39mprogram,a\u001b[38;5;241m=\u001b[39mi,b\u001b[38;5;241m=\u001b[39mregister_b,c\u001b[38;5;241m=\u001b[39mregister_c,part_two\u001b[38;5;241m=\u001b[39m\u001b[38;5;28;01mTrue\u001b[39;00m)\n\u001b[1;32m      4\u001b[0m     ret \u001b[38;5;241m=\u001b[39m part_two\u001b[38;5;241m.\u001b[39mexecute()\n\u001b[1;32m      5\u001b[0m     \u001b[38;5;28;01mif\u001b[39;00m ret:\n",
      "Cell \u001b[0;32mIn[85], line 10\u001b[0m, in \u001b[0;36mComputer.__init__\u001b[0;34m(self, program, a, b, c, part_two)\u001b[0m\n\u001b[1;32m      7\u001b[0m \u001b[38;5;28mself\u001b[39m\u001b[38;5;241m.\u001b[39mb \u001b[38;5;241m=\u001b[39m b\n\u001b[1;32m      8\u001b[0m \u001b[38;5;28mself\u001b[39m\u001b[38;5;241m.\u001b[39mc \u001b[38;5;241m=\u001b[39m c\n\u001b[0;32m---> 10\u001b[0m \u001b[38;5;28mself\u001b[39m\u001b[38;5;241m.\u001b[39mprogram \u001b[38;5;241m=\u001b[39m [\u001b[38;5;28mint\u001b[39m(i) \u001b[38;5;28;01mfor\u001b[39;00m i \u001b[38;5;129;01min\u001b[39;00m program\u001b[38;5;241m.\u001b[39msplit(\u001b[38;5;124m\"\u001b[39m\u001b[38;5;124m,\u001b[39m\u001b[38;5;124m\"\u001b[39m)]\n\u001b[1;32m     11\u001b[0m \u001b[38;5;28mself\u001b[39m\u001b[38;5;241m.\u001b[39mpointer \u001b[38;5;241m=\u001b[39m \u001b[38;5;241m0\u001b[39m\n\u001b[1;32m     12\u001b[0m \u001b[38;5;28mself\u001b[39m\u001b[38;5;241m.\u001b[39moutput \u001b[38;5;241m=\u001b[39m []\n",
      "\u001b[0;31mKeyboardInterrupt\u001b[0m: "
     ]
    }
   ],
   "source": [
    "i = 0\n",
    "while True:\n",
    "    part_two = Computer(program=program,a=i,b=register_b,c=register_c,part_two=True)\n",
    "    ret = part_two.execute()\n",
    "    if ret:\n",
    "        print(ret)\n",
    "        break\n",
    "    i += 1"
   ]
  },
  {
   "cell_type": "code",
   "execution_count": 88,
   "metadata": {},
   "outputs": [
    {
     "data": {
      "text/plain": [
       "[6]"
      ]
     },
     "execution_count": 88,
     "metadata": {},
     "output_type": "execute_result"
    }
   ],
   "source": [
    "part_two.output"
   ]
  },
  {
   "cell_type": "code",
   "execution_count": null,
   "metadata": {},
   "outputs": [],
   "source": []
  }
 ],
 "metadata": {
  "kernelspec": {
   "display_name": "aoc",
   "language": "python",
   "name": "python3"
  },
  "language_info": {
   "codemirror_mode": {
    "name": "ipython",
    "version": 3
   },
   "file_extension": ".py",
   "mimetype": "text/x-python",
   "name": "python",
   "nbconvert_exporter": "python",
   "pygments_lexer": "ipython3",
   "version": "3.12.2"
  }
 },
 "nbformat": 4,
 "nbformat_minor": 2
}
